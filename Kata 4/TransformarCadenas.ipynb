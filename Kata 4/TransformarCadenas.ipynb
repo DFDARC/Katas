{
 "cells": [
  {
   "cell_type": "markdown",
   "metadata": {},
   "source": [
    "# Transformar cadenas\n"
   ]
  },
  {
   "cell_type": "code",
   "execution_count": 2,
   "metadata": {},
   "outputs": [
    {
     "name": "stdout",
     "output_type": "stream",
     "text": [
      " \n",
      "On average, the Moon moves 4cm away from the Earth every year\n",
      " The highest daylight temperature of the Moon is 127 C\n",
      " \n",
      "On average, the Moon moves 4cm away from the Earth every year\n",
      " The highest daylight temperature of the Moon is 127 Celsius\n"
     ]
    }
   ],
   "source": [
    "text = \"\"\"Interesting facts about the Moon. The Moon is Earth's only satellite. There are several interesting facts about the Moon and how it affects life here on Earth. \n",
    "On average, the Moon moves 4cm away from the Earth every year. This yearly drift is not significant enough to cause immediate effects on Earth. The highest daylight temperature of the Moon is 127 C.\"\"\"\n",
    "textodividido=text.split('.')\n",
    "palabras_clave=[\"average\", \"temperature\", \"distance\"]\n",
    "for oracion in textodividido:\n",
    "    for palabraBuscar in palabras_clave:\n",
    "        if palabraBuscar in oracion:\n",
    "            print(oracion)\n",
    "            break\n",
    "for oracion in textodividido:\n",
    "    for palabraBuscar in palabras_clave:\n",
    "        if palabraBuscar in oracion:\n",
    "            print(oracion.replace('C', 'Celsius'))\n",
    "            break        "
   ]
  },
  {
   "cell_type": "markdown",
   "metadata": {},
   "source": [
    "## Formateando Cadenas"
   ]
  },
  {
   "cell_type": "code",
   "execution_count": 8,
   "metadata": {},
   "outputs": [
    {
     "name": "stdout",
     "output_type": "stream",
     "text": [
      "---------------\n",
      " satelite name is moon \n",
      " the gravity is 1.6199999999999999 \n",
      " is from the planet Earth\n",
      "Data About The Earth\n",
      " ---------------\n",
      " satelite name is moon \n",
      " the gravity is 1.6199999999999999 \n",
      " is from the planet Earth\n",
      "Data about the Mars \n",
      " --------------- \n",
      " the name is Mars \n",
      " his gravity is1.4300000000000002\n",
      " his satelite is Gaminedes\n"
     ]
    }
   ],
   "source": [
    "nombre=\"moon\"\n",
    "gravity=0.00162\n",
    "planet=\"Earth\"\n",
    "title=f'Data about the {planet}'\n",
    "guiones=\"---------------\"\n",
    "\n",
    "hechos=f\"{guiones}\\n satelite name is {nombre} \\n the gravity is {gravity*1000} \\n is from the planet {planet}\"\n",
    "print (hechos)\n",
    "\n",
    "hechos2=f\"{title.title()}\\n {hechos}\"\n",
    "print (hechos2)\n",
    "\n",
    "planet2=\"Mars\"\n",
    "gravity2=0.00143\n",
    "nombre2=\"Gaminedes\"\n",
    "\n",
    "hechos3=\"Data about the {planet2} \\n {guiones} \\n the name is {planet2} \\n his gravity is{gravity2}\\n his satelite is {nombre2}\"\n",
    "print(hechos3.format(planet2=planet2, guiones=guiones, gravity2=gravity2*1000, nombre2=nombre2))"
   ]
  }
 ],
 "metadata": {
  "interpreter": {
   "hash": "4ce0e62306dd6a5716965d4519ada776f947e6dfc145b604b11307c10277ef29"
  },
  "kernelspec": {
   "display_name": "Python 3.10.1 64-bit",
   "language": "python",
   "name": "python3"
  },
  "language_info": {
   "codemirror_mode": {
    "name": "ipython",
    "version": 3
   },
   "file_extension": ".py",
   "mimetype": "text/x-python",
   "name": "python",
   "nbconvert_exporter": "python",
   "pygments_lexer": "ipython3",
   "version": "3.10.1"
  },
  "orig_nbformat": 4
 },
 "nbformat": 4,
 "nbformat_minor": 2
}
