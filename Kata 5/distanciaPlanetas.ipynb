{
 "cells": [
  {
   "cell_type": "markdown",
   "metadata": {},
   "source": [
    "# Operadores aritmeticos"
   ]
  },
  {
   "cell_type": "code",
   "execution_count": 2,
   "metadata": {},
   "outputs": [
    {
     "name": "stdout",
     "output_type": "stream",
     "text": [
      "628949330\n",
      "390577533.93\n"
     ]
    }
   ],
   "source": [
    "distanciaP1=149597870\n",
    "distanciaP2=778547200\n",
    "diferencia=distanciaP2-distanciaP1\n",
    "milla= 0.621\n",
    "conver_M=milla*diferencia\n",
    "print(diferencia)\n",
    "print (conver_M)\n"
   ]
  },
  {
   "cell_type": "markdown",
   "metadata": {},
   "source": [
    "## Convertir valores absolutos"
   ]
  },
  {
   "cell_type": "code",
   "execution_count": 11,
   "metadata": {},
   "outputs": [
    {
     "name": "stdout",
     "output_type": "stream",
     "text": [
      "629000000\n",
      "390609000.0\n"
     ]
    }
   ],
   "source": [
    "primerPlaneta=input(\"Ingresa la distancia del primer planeta\")\n",
    "primerPlanetaIInt=int(primerPlaneta)\n",
    "segundoPlaneta=input(\"Ingresa la distancia del segundo planeta\")\n",
    "segundoPlanetaInt=int(segundoPlaneta)\n",
    "distanciaPlanetas=(abs(segundoPlanetaInt-primerPlanetaIInt))\n",
    "print(distanciaPlanetas)\n",
    "distanciaMillas=distanciaPlanetas*milla\n",
    "print(distanciaMillas)\n",
    "\n",
    "\n",
    "\n",
    "\n"
   ]
  }
 ],
 "metadata": {
  "interpreter": {
   "hash": "6ee01029b126d89695a481e2b4249517b099087c73378bc909c4ca8af74420eb"
  },
  "kernelspec": {
   "display_name": "Python 3.10.2 64-bit (windows store)",
   "language": "python",
   "name": "python3"
  },
  "language_info": {
   "codemirror_mode": {
    "name": "ipython",
    "version": 3
   },
   "file_extension": ".py",
   "mimetype": "text/x-python",
   "name": "python",
   "nbconvert_exporter": "python",
   "pygments_lexer": "ipython3",
   "version": "3.10.1"
  },
  "orig_nbformat": 4
 },
 "nbformat": 4,
 "nbformat_minor": 2
}
