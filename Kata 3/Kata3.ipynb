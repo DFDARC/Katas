{
 "cells": [
  {
   "cell_type": "markdown",
   "metadata": {},
   "source": [
    "# Declaraciones If, else, elif"
   ]
  },
  {
   "cell_type": "code",
   "execution_count": 1,
   "metadata": {},
   "outputs": [
    {
     "name": "stdout",
     "output_type": "stream",
     "text": [
      "Alerta el asteroide se acerca mucho\n"
     ]
    }
   ],
   "source": [
    "velocidad_asteroide=49\n",
    "if velocidad_asteroide>=25:\n",
    "    print(\"Alerta el asteroide se acerca mucho\")\n",
    "else :\n",
    "    print(\"El asteroide esta lejos\")"
   ]
  },
  {
   "cell_type": "markdown",
   "metadata": {},
   "source": [
    "## Declaraciones If, else, elif Parte2"
   ]
  },
  {
   "cell_type": "code",
   "execution_count": 2,
   "metadata": {},
   "outputs": [
    {
     "name": "stdout",
     "output_type": "stream",
     "text": [
      "que habra en el cielo\n"
     ]
    }
   ],
   "source": [
    "vel_asteroide=19\n",
    "if vel_asteroide>20:\n",
    "    print (\"una estrella fugaz, pide un deseo\")\n",
    "elif vel_asteroide==20:\n",
    "    print (\"una estrella fugaz, como tú\")\n",
    "else:\n",
    "    print (\"que habra en el cielo\")    \n"
   ]
  },
  {
   "cell_type": "markdown",
   "metadata": {},
   "source": [
    "### Delcaraciones If,else, elif Parte3\n"
   ]
  },
  {
   "cell_type": "code",
   "execution_count": 4,
   "metadata": {},
   "outputs": [
    {
     "name": "stdout",
     "output_type": "stream",
     "text": [
      "Una estrella fugaz pide un deseo\n"
     ]
    }
   ],
   "source": [
    "velocidad_asteroide = 25\n",
    "tAsteroide = 40\n",
    "if velocidad_asteroide > 25 and tAsteroide > 25:\n",
    "    print('Oh no corre')\n",
    "elif velocidad_asteroide >= 20:\n",
    "    print('Una estrella fugaz pide un deseo')\n",
    "elif tAsteroide < 25:\n",
    "    print('Que pasa')\n",
    "else:\n",
    "    print('Que pasa')"
   ]
  }
 ],
 "metadata": {
  "interpreter": {
   "hash": "4ce0e62306dd6a5716965d4519ada776f947e6dfc145b604b11307c10277ef29"
  },
  "kernelspec": {
   "display_name": "Python 3.10.1 64-bit",
   "language": "python",
   "name": "python3"
  },
  "language_info": {
   "codemirror_mode": {
    "name": "ipython",
    "version": 3
   },
   "file_extension": ".py",
   "mimetype": "text/x-python",
   "name": "python",
   "nbconvert_exporter": "python",
   "pygments_lexer": "ipython3",
   "version": "3.10.1"
  },
  "orig_nbformat": 4
 },
 "nbformat": 4,
 "nbformat_minor": 2
}
