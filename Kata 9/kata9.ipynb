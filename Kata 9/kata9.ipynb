{
 "cells": [
  {
   "cell_type": "markdown",
   "metadata": {},
   "source": [
    "# Uso de funciones en pyhton\n"
   ]
  },
  {
   "cell_type": "code",
   "execution_count": 2,
   "metadata": {},
   "outputs": [
    {
     "name": "stdout",
     "output_type": "stream",
     "text": [
      "(78.33333333333333, 'Promedio total', 80, 'Energia uno%', 70, 'Energia dos%', 85, 'energia tres%')\n",
      "78.0\n"
     ]
    }
   ],
   "source": [
    "def Combustible(energia, energia2, energia3):\n",
    "    promedio=(energia+energia2+energia3)/3\n",
    "    return  promedio,\"Promedio total\",energia,\"Energia uno%\",energia2,\"Energia dos%\",energia3,\"energia tres%\"\n",
    "print(Combustible(80,70,85))\n",
    "\n",
    "def Promedio(valores):\n",
    "    total=sum(valores)\n",
    "    numeroTotal=len(valores)\n",
    "    return total/numeroTotal\n",
    "Promedio([80,85,81])    \n",
    "\n",
    "def NuevoPromedio(energia, energia2, energia3):\n",
    "    return Promedio([energia,energia2,energia3])\n",
    "print(NuevoPromedio(88, 76, 70))    \n"
   ]
  },
  {
   "cell_type": "markdown",
   "metadata": {},
   "source": [
    "## ejercicio2"
   ]
  },
  {
   "cell_type": "code",
   "execution_count": 4,
   "metadata": {},
   "outputs": [
    {
     "name": "stdout",
     "output_type": "stream",
     "text": [
      "\"\n",
      "    Misiona a Tierra\n",
      "    tiempototal:11\n",
      "    combustible:60500 litros\n",
      "    \n",
      "\n",
      "    Mision a Jupiter\n",
      "    Tiempo total 47minutos\n",
      "    Total de combustible:7000\n",
      "    \n",
      "\n",
      "    Mission to Moon\n",
      "    Total travel time: 74 minutes\n",
      "    Total fuel left: 500000\n",
      "    main tank --> 300000 gallons left\n",
      "external tank --> 200000 gallons left\n",
      "\n"
     ]
    }
   ],
   "source": [
    "def reporte(pre_launch, flighttime, destination, externaltank, mainTank):\n",
    "    return f\"\"\"\"\n",
    "    Misiona a {destination}\n",
    "    tiempototal:{pre_launch+flighttime}\n",
    "    combustible:{externaltank+mainTank} litros\n",
    "    \"\"\"\n",
    "print(reporte(4, 7, \"Tierra\", 20500, 40000))\n",
    "\n",
    "def reporte(destination, *minutes, **reservas):\n",
    "    return f\"\"\"\n",
    "    Mision a {destination}\n",
    "    Tiempo total {sum(minutes)}minutos\n",
    "    Total de combustible:{sum(reservas.values())}\n",
    "    \"\"\"\n",
    "print(reporte(\"Jupiter\",15,12,20, main=3000, external=4000))    \n",
    "\n",
    "\n",
    "\n",
    "def mission_report(destination, *minutes, **fuel_reservoirs):\n",
    "    main_report = f\"\"\"\n",
    "    Mission to {destination}\n",
    "    Total travel time: {sum(minutes)} minutes\n",
    "    Total fuel left: {sum(fuel_reservoirs.values())}\n",
    "    \"\"\"\n",
    "    for tank_name, gallons in fuel_reservoirs.items():\n",
    "        main_report += f\"{tank_name} tank --> {gallons} gallons left\\n\"\n",
    "    return main_report\n",
    "\n",
    "print(mission_report(\"Saturno\", 18, 1, 45, main=30000, external=300000))\n",
    "\n",
    "\n",
    "   \n"
   ]
  }
 ],
 "metadata": {
  "interpreter": {
   "hash": "4ce0e62306dd6a5716965d4519ada776f947e6dfc145b604b11307c10277ef29"
  },
  "kernelspec": {
   "display_name": "Python 3.10.1 64-bit",
   "language": "python",
   "name": "python3"
  },
  "language_info": {
   "codemirror_mode": {
    "name": "ipython",
    "version": 3
   },
   "file_extension": ".py",
   "mimetype": "text/x-python",
   "name": "python",
   "nbconvert_exporter": "python",
   "pygments_lexer": "ipython3",
   "version": "3.10.2"
  },
  "orig_nbformat": 4
 },
 "nbformat": 4,
 "nbformat_minor": 2
}
